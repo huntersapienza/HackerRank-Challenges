{
 "cells": [
  {
   "cell_type": "markdown",
   "metadata": {},
   "source": [
    "# HackerRank Challenge Solutions"
   ]
  },
  {
   "cell_type": "markdown",
   "metadata": {},
   "source": [
    "### Migratory Birds"
   ]
  },
  {
   "cell_type": "markdown",
   "metadata": {},
   "source": [
    "First Attempt (5/6 Test Cases Passed) "
   ]
  },
  {
   "cell_type": "code",
   "execution_count": null,
   "metadata": {},
   "outputs": [],
   "source": [
    "def migratory_birds(arr):\n",
    "    count = {}\n",
    "    for bird in arr:\n",
    "        if bird in count.keys():\n",
    "            count[bird]+=1\n",
    "        else:\n",
    "            count[bird]=1\n",
    "    return max(count, key=lambda k: count[k])"
   ]
  },
  {
   "cell_type": "markdown",
   "metadata": {},
   "source": [
    "Second Attempt (6/6 Test Cases Passed)"
   ]
  },
  {
   "cell_type": "code",
   "execution_count": null,
   "metadata": {},
   "outputs": [],
   "source": [
    "def migratory_birds(arr):\n",
    "    counts = {}\n",
    "    birds = list(set(arr))\n",
    "    for bird in birds:\n",
    "        value = arr.count(bird)\n",
    "        counts[bird]=value\n",
    "    return max(counts, key=lambda k: counts[k])"
   ]
  }
 ],
 "metadata": {
  "kernelspec": {
   "display_name": "Python 3",
   "language": "python",
   "name": "python3"
  },
  "language_info": {
   "codemirror_mode": {
    "name": "ipython",
    "version": 3
   },
   "file_extension": ".py",
   "mimetype": "text/x-python",
   "name": "python",
   "nbconvert_exporter": "python",
   "pygments_lexer": "ipython3",
   "version": "3.7.3"
  }
 },
 "nbformat": 4,
 "nbformat_minor": 2
}
