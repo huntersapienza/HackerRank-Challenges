{
 "cells": [
  {
   "cell_type": "markdown",
   "metadata": {},
   "source": [
    "# HackerRank Challenge Solutions"
   ]
  },
  {
   "cell_type": "markdown",
   "metadata": {},
   "source": [
    "### Jumping On Clouds Revisited"
   ]
  },
  {
   "cell_type": "markdown",
   "metadata": {},
   "source": [
    "Method"
   ]
  },
  {
   "cell_type": "code",
   "execution_count": 3,
   "metadata": {},
   "outputs": [],
   "source": [
    "def jumpingOnClouds(c, k):\n",
    "    e = 100\n",
    "    i = 0\n",
    "    while e>0:\n",
    "        i = (i+k)%n\n",
    "        if c[i] ==1:\n",
    "            e-=2\n",
    "        e-=1\n",
    "        if i==0:\n",
    "            break\n",
    "    return e"
   ]
  },
  {
   "cell_type": "markdown",
   "metadata": {},
   "source": [
    "### Sequence Equation"
   ]
  },
  {
   "cell_type": "markdown",
   "metadata": {},
   "source": [
    "Method"
   ]
  },
  {
   "cell_type": "code",
   "execution_count": 1,
   "metadata": {},
   "outputs": [],
   "source": [
    "def permutationEquation(p):\n",
    "    output = []\n",
    "    for i in list(range(1,len(p)+1)):\n",
    "        output.append(p.index(p.index(i)+1)+1)\n",
    "    return output"
   ]
  },
  {
   "cell_type": "markdown",
   "metadata": {},
   "source": [
    "Test Code"
   ]
  },
  {
   "cell_type": "code",
   "execution_count": 2,
   "metadata": {},
   "outputs": [
    {
     "data": {
      "text/plain": [
       "[1, 3, 5, 4, 2]"
      ]
     },
     "execution_count": 2,
     "metadata": {},
     "output_type": "execute_result"
    }
   ],
   "source": [
    "permutationEquation([4,3,5,1,2])"
   ]
  },
  {
   "cell_type": "markdown",
   "metadata": {},
   "source": [
    "### Diagonal Difference"
   ]
  },
  {
   "cell_type": "markdown",
   "metadata": {},
   "source": [
    "Method"
   ]
  },
  {
   "cell_type": "code",
   "execution_count": 1,
   "metadata": {},
   "outputs": [],
   "source": [
    "def diagonalDifference(arr):\n",
    "    sum = 0\n",
    "    for i in list(range(0,len(arr))):\n",
    "        sum += arr[i][i]\n",
    "        sum -= arr[i][(len(arr)-1)-i]\n",
    "    return abs(sum)"
   ]
  },
  {
   "cell_type": "markdown",
   "metadata": {},
   "source": [
    "Test Code"
   ]
  },
  {
   "cell_type": "code",
   "execution_count": 2,
   "metadata": {},
   "outputs": [
    {
     "data": {
      "text/plain": [
       "15"
      ]
     },
     "execution_count": 2,
     "metadata": {},
     "output_type": "execute_result"
    }
   ],
   "source": [
    "diagonalDifference([[11,2,4],[4,5,6],[10,8,-12]])"
   ]
  },
  {
   "cell_type": "markdown",
   "metadata": {},
   "source": [
    "### Equalizing the Array"
   ]
  },
  {
   "cell_type": "markdown",
   "metadata": {},
   "source": [
    "Method"
   ]
  },
  {
   "cell_type": "code",
   "execution_count": 11,
   "metadata": {},
   "outputs": [],
   "source": [
    "from collections import Counter\n",
    "def equalizeArray(arr):\n",
    "    dic = Counter(arr)\n",
    "    return len(arr)-max([i for i in dic.values()])"
   ]
  },
  {
   "cell_type": "markdown",
   "metadata": {},
   "source": [
    "Method (First Try)"
   ]
  },
  {
   "cell_type": "markdown",
   "metadata": {},
   "source": [
    "This method worked for the test code, but produced errors for those arrays with multiple modes."
   ]
  },
  {
   "cell_type": "code",
   "execution_count": 8,
   "metadata": {},
   "outputs": [],
   "source": [
    "import statistics\n",
    "def equalizeArray(arr):\n",
    "    return len(arr)-arr.count(statistics.mode(arr))"
   ]
  },
  {
   "cell_type": "markdown",
   "metadata": {},
   "source": [
    "### Jumping on the Clouds"
   ]
  },
  {
   "cell_type": "markdown",
   "metadata": {},
   "source": [
    "Method"
   ]
  },
  {
   "cell_type": "code",
   "execution_count": 6,
   "metadata": {},
   "outputs": [],
   "source": [
    "def jumpingOnClouds(c):\n",
    "    jumps = 0\n",
    "    index = 0\n",
    "    while index<len(c)-2:\n",
    "        if c[index+2]!=1:\n",
    "            index+=2\n",
    "            jumps+=1\n",
    "        else:\n",
    "            index+=1\n",
    "            jumps+=1\n",
    "    if index==len(c)-2:\n",
    "        jumps+=1\n",
    "    return jumps"
   ]
  },
  {
   "cell_type": "markdown",
   "metadata": {},
   "source": [
    "Test Code"
   ]
  },
  {
   "cell_type": "code",
   "execution_count": 7,
   "metadata": {},
   "outputs": [
    {
     "data": {
      "text/plain": [
       "6"
      ]
     },
     "execution_count": 7,
     "metadata": {},
     "output_type": "execute_result"
    }
   ],
   "source": [
    "jumpingOnClouds([0,0,1,0,1,0,1,0,0,1,0])"
   ]
  },
  {
   "cell_type": "markdown",
   "metadata": {},
   "source": [
    "### Repeated Strings"
   ]
  },
  {
   "cell_type": "markdown",
   "metadata": {},
   "source": [
    "Method"
   ]
  },
  {
   "cell_type": "code",
   "execution_count": 4,
   "metadata": {},
   "outputs": [],
   "source": [
    "def repeatedString(s, n):\n",
    "    anum = 0\n",
    "    for i in s:\n",
    "        if i=='a':\n",
    "            anum+=1\n",
    "    num = (n//len(s))*anum\n",
    "    remainder = n%len(s)\n",
    "    for i in s[:remainder]:\n",
    "        if i=='a':\n",
    "            num+=1\n",
    "    return num"
   ]
  },
  {
   "cell_type": "markdown",
   "metadata": {},
   "source": [
    "Test Code"
   ]
  },
  {
   "cell_type": "code",
   "execution_count": 5,
   "metadata": {},
   "outputs": [
    {
     "data": {
      "text/plain": [
       "7"
      ]
     },
     "execution_count": 5,
     "metadata": {},
     "output_type": "execute_result"
    }
   ],
   "source": [
    "repeatedString('aba',10)"
   ]
  },
  {
   "cell_type": "markdown",
   "metadata": {},
   "source": [
    "### Non-Divisible Subset"
   ]
  },
  {
   "cell_type": "markdown",
   "metadata": {},
   "source": [
    "Method"
   ]
  },
  {
   "cell_type": "code",
   "execution_count": null,
   "metadata": {},
   "outputs": [],
   "source": [
    "def nonDivisibleSubset(k, s):\n",
    "    r, o = [0] * k, 0\n",
    "    for i in s:\n",
    "        r[i % k] += 1\n",
    "    for j in range((k + 2) // 2):\n",
    "        if not j or not k % 2 and j == k // 2:\n",
    "            o += r[j] > 0\n",
    "        else:\n",
    "            o += max(r[j], r[k - j])\n",
    "    return(o)"
   ]
  },
  {
   "cell_type": "markdown",
   "metadata": {},
   "source": [
    "### Cut the Sticks"
   ]
  },
  {
   "cell_type": "markdown",
   "metadata": {},
   "source": [
    "Method"
   ]
  },
  {
   "cell_type": "code",
   "execution_count": 1,
   "metadata": {},
   "outputs": [],
   "source": [
    "def cutTheSticks(arr):\n",
    "    for value in list(sorted(set(arr))):\n",
    "        print(sum(1 for x in arr if x>=value))\n",
    "    return"
   ]
  },
  {
   "cell_type": "markdown",
   "metadata": {},
   "source": [
    "Test Code"
   ]
  },
  {
   "cell_type": "code",
   "execution_count": 2,
   "metadata": {},
   "outputs": [
    {
     "name": "stdout",
     "output_type": "stream",
     "text": [
      "8\n",
      "6\n",
      "4\n",
      "1\n"
     ]
    }
   ],
   "source": [
    "cutTheSticks([1,2,3,4,3,3,2,1])"
   ]
  },
  {
   "cell_type": "markdown",
   "metadata": {},
   "source": [
    "### Circular Array Rotation"
   ]
  },
  {
   "cell_type": "markdown",
   "metadata": {},
   "source": [
    "Method"
   ]
  },
  {
   "cell_type": "code",
   "execution_count": 3,
   "metadata": {},
   "outputs": [],
   "source": [
    "def circularArrayRotation(a, k, queries):\n",
    "    return [a[(q-k) % len(a)] for q in queries]"
   ]
  },
  {
   "cell_type": "markdown",
   "metadata": {},
   "source": [
    "Test Code"
   ]
  },
  {
   "cell_type": "code",
   "execution_count": 4,
   "metadata": {},
   "outputs": [
    {
     "data": {
      "text/plain": [
       "[6, 63, 7, 59]"
      ]
     },
     "execution_count": 4,
     "metadata": {},
     "output_type": "execute_result"
    }
   ],
   "source": [
    "circularArrayRotation([6,2,63,26,7,42,59,50,18],28,[1,3,5,7])"
   ]
  },
  {
   "cell_type": "markdown",
   "metadata": {},
   "source": [
    "### Save the Prisoner!"
   ]
  },
  {
   "cell_type": "markdown",
   "metadata": {},
   "source": [
    "Method"
   ]
  },
  {
   "cell_type": "code",
   "execution_count": 1,
   "metadata": {},
   "outputs": [],
   "source": [
    "def saveThePrisoner(n, m, s):\n",
    "    return (m+s-1)%n if (m+s-1)%n!=0 else n"
   ]
  },
  {
   "cell_type": "markdown",
   "metadata": {},
   "source": [
    "Test Code"
   ]
  },
  {
   "cell_type": "code",
   "execution_count": 2,
   "metadata": {},
   "outputs": [
    {
     "data": {
      "text/plain": [
       "756"
      ]
     },
     "execution_count": 2,
     "metadata": {},
     "output_type": "execute_result"
    }
   ],
   "source": [
    "saveThePrisoner(4938, 5692, 3)"
   ]
  },
  {
   "cell_type": "markdown",
   "metadata": {},
   "source": [
    "### Viral Advertising"
   ]
  },
  {
   "cell_type": "markdown",
   "metadata": {},
   "source": [
    "Method"
   ]
  },
  {
   "cell_type": "code",
   "execution_count": 4,
   "metadata": {},
   "outputs": [],
   "source": [
    "def viralAdvertising(n):\n",
    "    cumulative = 2\n",
    "    liked = [2]\n",
    "    counter = 1\n",
    "    while counter<n:\n",
    "        liked.append((liked[counter-1]*3)//2)\n",
    "        cumulative+=((liked[counter-1]*3)//2)\n",
    "        counter+=1\n",
    "    return cumulative"
   ]
  },
  {
   "cell_type": "markdown",
   "metadata": {},
   "source": [
    "Test Code"
   ]
  },
  {
   "cell_type": "code",
   "execution_count": 5,
   "metadata": {},
   "outputs": [
    {
     "data": {
      "text/plain": [
       "54628"
      ]
     },
     "execution_count": 5,
     "metadata": {},
     "output_type": "execute_result"
    }
   ],
   "source": [
    "viralAdvertising(24)"
   ]
  },
  {
   "cell_type": "markdown",
   "metadata": {},
   "source": [
    "### Beautiful Days at the Movies"
   ]
  },
  {
   "cell_type": "markdown",
   "metadata": {},
   "source": [
    "Method"
   ]
  },
  {
   "cell_type": "code",
   "execution_count": 2,
   "metadata": {},
   "outputs": [],
   "source": [
    "def beautifulDays(i, j, k):\n",
    "    days = []\n",
    "    for d in list(range(i,j+1,1)):\n",
    "        x = str(d)\n",
    "        lst = list(x)\n",
    "        lst.reverse()\n",
    "        drev = \"\".join(lst)\n",
    "        if (d-int(drev))%k==0:\n",
    "            days.append(d)\n",
    "    return len(days)"
   ]
  },
  {
   "cell_type": "markdown",
   "metadata": {},
   "source": [
    "Test Code"
   ]
  },
  {
   "cell_type": "code",
   "execution_count": 3,
   "metadata": {},
   "outputs": [
    {
     "data": {
      "text/plain": [
       "33"
      ]
     },
     "execution_count": 3,
     "metadata": {},
     "output_type": "execute_result"
    }
   ],
   "source": [
    "beautifulDays(13,45,3)"
   ]
  },
  {
   "cell_type": "markdown",
   "metadata": {},
   "source": [
    "### Angry Professor"
   ]
  },
  {
   "cell_type": "markdown",
   "metadata": {},
   "source": [
    "Method"
   ]
  },
  {
   "cell_type": "code",
   "execution_count": 1,
   "metadata": {},
   "outputs": [],
   "source": [
    "def angryProfessor(k, a):\n",
    "    ontime = sum(1 for i in a if i<=0)\n",
    "    if ontime>=k:\n",
    "        return 'NO'\n",
    "    else:\n",
    "        return 'YES'"
   ]
  },
  {
   "cell_type": "markdown",
   "metadata": {},
   "source": [
    "Test Code"
   ]
  },
  {
   "cell_type": "code",
   "execution_count": null,
   "metadata": {},
   "outputs": [],
   "source": []
  },
  {
   "cell_type": "markdown",
   "metadata": {},
   "source": [
    "### Utopian Tree"
   ]
  },
  {
   "cell_type": "markdown",
   "metadata": {},
   "source": [
    "Method"
   ]
  },
  {
   "cell_type": "code",
   "execution_count": 125,
   "metadata": {},
   "outputs": [],
   "source": [
    "def utopianTree(n):\n",
    "    cycle = 0\n",
    "    height = 0\n",
    "    while cycle<=n:\n",
    "        cycle+=1\n",
    "        if cycle%2==1:\n",
    "            height +=1\n",
    "        else:\n",
    "            height = height*2\n",
    "    return height"
   ]
  },
  {
   "cell_type": "markdown",
   "metadata": {},
   "source": [
    "Test Code"
   ]
  },
  {
   "cell_type": "code",
   "execution_count": 126,
   "metadata": {},
   "outputs": [
    {
     "data": {
      "text/plain": [
       "32766"
      ]
     },
     "execution_count": 126,
     "metadata": {},
     "output_type": "execute_result"
    }
   ],
   "source": [
    "utopianTree(27)"
   ]
  },
  {
   "cell_type": "markdown",
   "metadata": {},
   "source": [
    "### Designer PDF"
   ]
  },
  {
   "cell_type": "markdown",
   "metadata": {},
   "source": [
    "Method"
   ]
  },
  {
   "cell_type": "code",
   "execution_count": 123,
   "metadata": {},
   "outputs": [],
   "source": [
    "import string\n",
    "\n",
    "def designerPdfViewer(h, word):\n",
    "    heights = []\n",
    "    for letter in word:\n",
    "        heights.append(h[string.ascii_lowercase.index(letter)])\n",
    "    return max(heights)*len(word)"
   ]
  },
  {
   "cell_type": "markdown",
   "metadata": {},
   "source": [
    "Test Code"
   ]
  },
  {
   "cell_type": "code",
   "execution_count": 124,
   "metadata": {},
   "outputs": [
    {
     "data": {
      "text/plain": [
       "28"
      ]
     },
     "execution_count": 124,
     "metadata": {},
     "output_type": "execute_result"
    }
   ],
   "source": [
    "designerPdfViewer([1, 3, 1, 3, 1, 4, 1, 3, 2, 5, 5, 5, 5, 5, 5, 5, 5, 5, 5, 5, 5, 5, 5, 5, 5, 7], 'zaba')"
   ]
  },
  {
   "cell_type": "markdown",
   "metadata": {},
   "source": [
    "### Hurdle Race"
   ]
  },
  {
   "cell_type": "markdown",
   "metadata": {},
   "source": [
    "Method"
   ]
  },
  {
   "cell_type": "code",
   "execution_count": 122,
   "metadata": {},
   "outputs": [],
   "source": [
    "def hurdleRace(k, height):\n",
    "    if k>=max(height):\n",
    "        return 0\n",
    "    else:\n",
    "        return max(height)-k"
   ]
  },
  {
   "cell_type": "markdown",
   "metadata": {},
   "source": [
    "Test Code"
   ]
  },
  {
   "cell_type": "code",
   "execution_count": null,
   "metadata": {},
   "outputs": [],
   "source": []
  },
  {
   "cell_type": "markdown",
   "metadata": {},
   "source": [
    "### Climbing the Leaderboard"
   ]
  },
  {
   "cell_type": "markdown",
   "metadata": {},
   "source": [
    "First Method Attempt"
   ]
  },
  {
   "cell_type": "code",
   "execution_count": 1,
   "metadata": {},
   "outputs": [],
   "source": [
    "def climbingLeaderboard(scores, alice):\n",
    "    ranks = []\n",
    "    for a in alice:\n",
    "        count = 1\n",
    "        for score in list(set(scores)):\n",
    "            if score>a:\n",
    "                count +=1\n",
    "        ranks.append(count)\n",
    "    return ranks"
   ]
  },
  {
   "cell_type": "markdown",
   "metadata": {},
   "source": [
    "Second Method Attempt"
   ]
  },
  {
   "cell_type": "code",
   "execution_count": null,
   "metadata": {},
   "outputs": [],
   "source": [
    "def climbingLeaderboard(scores, alice):\n",
    "    ranks = []\n",
    "    for a in alice: \n",
    "        ranks.append(sum(1 for i in set(scores) if i>a)+1)\n",
    "    return ranks\n",
    "\n",
    "# OR\n",
    "\n",
    "def climbingLeaderboard(scores, alice):\n",
    "    ranks = []\n",
    "    for a in alice:\n",
    "        ranks.append(len([i for i in set(scores) if i>a])+1)\n",
    "    return ranks\n",
    "\n",
    "# OR\n",
    "\n",
    "def climbingLeaderboard(scores, alice):\n",
    "    ranks = []\n",
    "    for a in alice:\n",
    "        ranks.append(reduce(lambda sum, j: sum +(1 if j>a else 0), set(scores), 0)+1)\n",
    "    return ranks"
   ]
  },
  {
   "cell_type": "markdown",
   "metadata": {},
   "source": [
    "Final Solution Method"
   ]
  },
  {
   "cell_type": "code",
   "execution_count": 2,
   "metadata": {},
   "outputs": [],
   "source": [
    "def climbingLeaderboard(scores, alice):\n",
    "    scores_set = list(set(scores))\n",
    "    scores_set.sort(reverse=True)\n",
    "    ranks = []\n",
    "    l = len(scores_set)\n",
    "    for a in alice:\n",
    "        while (l>0) and (a >= scores_set[l-1]):\n",
    "            l -= 1\n",
    "        ranks.append(l+1)\n",
    "    return ranks"
   ]
  },
  {
   "cell_type": "markdown",
   "metadata": {},
   "source": [
    "Binary Search Solution"
   ]
  },
  {
   "cell_type": "code",
   "execution_count": 113,
   "metadata": {},
   "outputs": [],
   "source": [
    "# Returns index of x in arr, else -1 if error occurs\n",
    "def binarySearch (arr, l, r, x): \n",
    "  \n",
    "    # Check base case \n",
    "    if r >= l: \n",
    "  \n",
    "        mid = l + (r - l) // 2\n",
    "  \n",
    "        # If item is present at the middle or an endpoint itself \n",
    "        if arr[mid] == x: \n",
    "            return mid-1\n",
    "        elif arr[r] == x:\n",
    "            return r+1\n",
    "        elif arr[l]== x:\n",
    "            return l+1\n",
    "        \n",
    "        # If item does not exist in the list, but fits between two existing items\n",
    "        elif arr[r]>x:\n",
    "            return len(arr)+1\n",
    "        elif arr[l]<x:\n",
    "            return 1\n",
    "        elif arr[mid]>x and arr[mid+1]<x:\n",
    "            return mid+2\n",
    "          \n",
    "        # If item is smaller than mid, then it can only be present in left subarray \n",
    "        elif arr[mid] > x: \n",
    "            return binarySearch(arr, mid+1, r, x) \n",
    "  \n",
    "        # Else the item can only be present in right subarray \n",
    "        else: \n",
    "            return binarySearch(arr, l, mid-1, x) \n",
    "  \n",
    "    else: \n",
    "        # Error occurs when placing item within list \n",
    "        return -1 "
   ]
  },
  {
   "cell_type": "code",
   "execution_count": 118,
   "metadata": {},
   "outputs": [],
   "source": [
    "def climbingLeaderboard(scores, alice):\n",
    "    ranks = []\n",
    "    set_scores = list(set(scores))\n",
    "    set_scores.sort(reverse=True)\n",
    "    for a in alice:\n",
    "        result = binarySearch(set_scores, 0 , len(set_scores)-1, a)\n",
    "        ranks.append(result)\n",
    "    return ranks"
   ]
  },
  {
   "cell_type": "markdown",
   "metadata": {},
   "source": [
    "Test Code"
   ]
  },
  {
   "cell_type": "code",
   "execution_count": 121,
   "metadata": {},
   "outputs": [
    {
     "data": {
      "text/plain": [
       "[6, 4, 2, 1]"
      ]
     },
     "execution_count": 121,
     "metadata": {},
     "output_type": "execute_result"
    }
   ],
   "source": [
    "climbingLeaderboard([100, 100, 50, 40, 40, 20, 10], [5, 25, 50, 120])"
   ]
  },
  {
   "cell_type": "markdown",
   "metadata": {},
   "source": [
    "### Picking Numbers"
   ]
  },
  {
   "cell_type": "markdown",
   "metadata": {},
   "source": [
    "Final Method"
   ]
  },
  {
   "cell_type": "code",
   "execution_count": 34,
   "metadata": {},
   "outputs": [],
   "source": [
    "def pickingNumbers(a):\n",
    "    lengths = []\n",
    "    sorteda = sorted(list(set(a)))\n",
    "    for index, value in enumerate(sorteda):\n",
    "        if value!=max(sorteda) and sorteda[index+1]==(value+1):\n",
    "            lengths.append(a.count(value)+a.count(value+1))\n",
    "        else:\n",
    "            lengths.append(a.count(value)+a.count(value-1))\n",
    "    return max(lengths)"
   ]
  },
  {
   "cell_type": "markdown",
   "metadata": {},
   "source": [
    "Test Code"
   ]
  },
  {
   "cell_type": "code",
   "execution_count": 35,
   "metadata": {},
   "outputs": [
    {
     "data": {
      "text/plain": [
       "3"
      ]
     },
     "execution_count": 35,
     "metadata": {},
     "output_type": "execute_result"
    }
   ],
   "source": [
    "pickingNumbers([4,6,5,3,3,1])"
   ]
  },
  {
   "cell_type": "markdown",
   "metadata": {},
   "source": [
    "Below solution terminated due to runtime complexity:"
   ]
  },
  {
   "cell_type": "code",
   "execution_count": 32,
   "metadata": {},
   "outputs": [],
   "source": [
    "from itertools import combinations\n",
    "def pickingNumbers(a):\n",
    "    lengths = []\n",
    "    for r in list(range(1,len(a),1)):\n",
    "        combs = combinations(a, r)\n",
    "        for comb in combs:\n",
    "            if len(list(set(comb)))==1:\n",
    "                lengths.append(1)\n",
    "            elif len(list(set(comb)))<=2 and (list(set(comb))[1]-list(set(comb))[0])<=1:\n",
    "                lengths.append(r)\n",
    "    return max(lengths)"
   ]
  },
  {
   "cell_type": "code",
   "execution_count": 33,
   "metadata": {
    "scrolled": true
   },
   "outputs": [
    {
     "data": {
      "text/plain": [
       "3"
      ]
     },
     "execution_count": 33,
     "metadata": {},
     "output_type": "execute_result"
    }
   ],
   "source": [
    "pickingNumbers([4,6,5,3,3,1])"
   ]
  },
  {
   "cell_type": "markdown",
   "metadata": {},
   "source": [
    "Reading through the discussion posts, I found this even simpler (!!!) solution:"
   ]
  },
  {
   "cell_type": "code",
   "execution_count": 38,
   "metadata": {},
   "outputs": [],
   "source": [
    "def pickingNumbers(a):\n",
    "    return max([a.count(i) + a.count(i+1) for i in set(a)])"
   ]
  },
  {
   "cell_type": "code",
   "execution_count": 39,
   "metadata": {},
   "outputs": [
    {
     "data": {
      "text/plain": [
       "3"
      ]
     },
     "execution_count": 39,
     "metadata": {},
     "output_type": "execute_result"
    }
   ],
   "source": [
    "pickingNumbers([4,6,5,3,3,1])"
   ]
  },
  {
   "cell_type": "markdown",
   "metadata": {},
   "source": [
    "### Forming Magic Squares"
   ]
  },
  {
   "cell_type": "markdown",
   "metadata": {},
   "source": [
    "Method"
   ]
  },
  {
   "cell_type": "code",
   "execution_count": 27,
   "metadata": {},
   "outputs": [],
   "source": [
    "def formingMagicSquare(s):\n",
    "    magic_squares = [\n",
    "            [[8, 1, 6], [3, 5, 7], [4, 9, 2]],\n",
    "            [[6, 1, 8], [7, 5, 3], [2, 9, 4]],\n",
    "            [[4, 9, 2], [3, 5, 7], [8, 1, 6]],\n",
    "            [[2, 9, 4], [7, 5, 3], [6, 1, 8]], \n",
    "            [[8, 3, 4], [1, 5, 9], [6, 7, 2]],\n",
    "            [[4, 3, 8], [9, 5, 1], [2, 7, 6]], \n",
    "            [[6, 7, 2], [1, 5, 9], [8, 3, 4]], \n",
    "            [[2, 7, 6], [9, 5, 1], [4, 3, 8]],\n",
    "            ]\n",
    "    costs={}\n",
    "    for k, magic_square in enumerate(magic_squares):\n",
    "        cost = 0\n",
    "        for i, value in enumerate(s):\n",
    "            for j, value in enumerate(value):\n",
    "                cost += abs(s[i][j]-magic_square[i][j])\n",
    "                costs[k]=cost\n",
    "    return min(costs.values())"
   ]
  },
  {
   "cell_type": "markdown",
   "metadata": {},
   "source": [
    "Test Code"
   ]
  },
  {
   "cell_type": "code",
   "execution_count": 29,
   "metadata": {},
   "outputs": [
    {
     "data": {
      "text/plain": [
       "4"
      ]
     },
     "execution_count": 29,
     "metadata": {},
     "output_type": "execute_result"
    }
   ],
   "source": [
    "formingMagicSquare([[4,8,2],[4,5,7],[6,1,6]])"
   ]
  },
  {
   "cell_type": "markdown",
   "metadata": {},
   "source": [
    "### Cat and Mouse"
   ]
  },
  {
   "cell_type": "markdown",
   "metadata": {},
   "source": [
    "Method"
   ]
  },
  {
   "cell_type": "code",
   "execution_count": 10,
   "metadata": {},
   "outputs": [],
   "source": [
    "def catAndMouse(x, y, z):\n",
    "    if abs(x-z)<abs(y-z):\n",
    "        return 'Cat A'\n",
    "    elif abs(y-z)<abs(x-z):\n",
    "        return 'Cat B'\n",
    "    else:\n",
    "        return 'Mouse C'"
   ]
  },
  {
   "cell_type": "markdown",
   "metadata": {},
   "source": [
    "Test Code"
   ]
  },
  {
   "cell_type": "code",
   "execution_count": 11,
   "metadata": {},
   "outputs": [
    {
     "data": {
      "text/plain": [
       "'Cat A'"
      ]
     },
     "execution_count": 11,
     "metadata": {},
     "output_type": "execute_result"
    }
   ],
   "source": [
    "catAndMouse(13,19,15)"
   ]
  },
  {
   "cell_type": "markdown",
   "metadata": {},
   "source": [
    "### Electronics Shop"
   ]
  },
  {
   "cell_type": "markdown",
   "metadata": {},
   "source": [
    "Method"
   ]
  },
  {
   "cell_type": "code",
   "execution_count": 8,
   "metadata": {},
   "outputs": [],
   "source": [
    "def getMoneySpent(keyboards, drives, b):\n",
    "    totals = []\n",
    "    budget = []\n",
    "    for k in keyboards:\n",
    "        for d in drives:\n",
    "            totals.append(k+d)\n",
    "    for total in totals:\n",
    "        if total<=b:\n",
    "            budget.append(total)\n",
    "    if len(budget)==0:\n",
    "        return -1\n",
    "    else:\n",
    "        return max(budget)"
   ]
  },
  {
   "cell_type": "markdown",
   "metadata": {},
   "source": [
    "Test Code"
   ]
  },
  {
   "cell_type": "code",
   "execution_count": 9,
   "metadata": {},
   "outputs": [
    {
     "data": {
      "text/plain": [
       "9"
      ]
     },
     "execution_count": 9,
     "metadata": {},
     "output_type": "execute_result"
    }
   ],
   "source": [
    "getMoneySpent([3,1],[5,2,8],10)"
   ]
  },
  {
   "cell_type": "markdown",
   "metadata": {},
   "source": [
    "### Counting Valleys"
   ]
  },
  {
   "cell_type": "markdown",
   "metadata": {},
   "source": [
    "Method"
   ]
  },
  {
   "cell_type": "code",
   "execution_count": 5,
   "metadata": {},
   "outputs": [],
   "source": [
    "def countingValleys(n, s):\n",
    "    position = 0\n",
    "    valleys = 0\n",
    "    for step in s:\n",
    "        if step=='U':\n",
    "            position+=1\n",
    "        if step=='D':\n",
    "            if position==0:\n",
    "                valleys+=1\n",
    "            position-=1\n",
    "    return valleys"
   ]
  },
  {
   "cell_type": "markdown",
   "metadata": {},
   "source": [
    "Test Code"
   ]
  },
  {
   "cell_type": "code",
   "execution_count": 7,
   "metadata": {},
   "outputs": [
    {
     "data": {
      "text/plain": [
       "2"
      ]
     },
     "execution_count": 7,
     "metadata": {},
     "output_type": "execute_result"
    }
   ],
   "source": [
    "countingValleys(12, ['D','D','U','U','D','D','U','D','U','U','U','D'])"
   ]
  },
  {
   "cell_type": "markdown",
   "metadata": {},
   "source": [
    "### Drawing Book"
   ]
  },
  {
   "cell_type": "markdown",
   "metadata": {},
   "source": [
    "Method"
   ]
  },
  {
   "cell_type": "code",
   "execution_count": 3,
   "metadata": {},
   "outputs": [],
   "source": [
    "def pageCount(n, p):\n",
    "    if p>(n/2):\n",
    "        if n%2==0:\n",
    "            return int((n-p+1)/2)\n",
    "        else:\n",
    "            return int((n-p)/2)\n",
    "    else:\n",
    "        return int(p/2) "
   ]
  },
  {
   "cell_type": "markdown",
   "metadata": {},
   "source": [
    "Test Code"
   ]
  },
  {
   "cell_type": "code",
   "execution_count": 4,
   "metadata": {},
   "outputs": [
    {
     "data": {
      "text/plain": [
       "184"
      ]
     },
     "execution_count": 4,
     "metadata": {},
     "output_type": "execute_result"
    }
   ],
   "source": [
    "pageCount(807, 368)"
   ]
  },
  {
   "cell_type": "markdown",
   "metadata": {},
   "source": [
    "### Sock Merchant"
   ]
  },
  {
   "cell_type": "markdown",
   "metadata": {},
   "source": [
    "Method"
   ]
  },
  {
   "cell_type": "code",
   "execution_count": 1,
   "metadata": {},
   "outputs": [],
   "source": [
    "def sockMerchant(n, ar):\n",
    "    counts = {}\n",
    "    socks = list(set(ar))\n",
    "    for sock in socks:\n",
    "        value = ar.count(sock)\n",
    "        counts[sock]=value\n",
    "    pairs = 0\n",
    "    for value in counts.values():\n",
    "        pairs += int(value/2)\n",
    "    return pairs"
   ]
  },
  {
   "cell_type": "markdown",
   "metadata": {},
   "source": [
    "Test Code"
   ]
  },
  {
   "cell_type": "code",
   "execution_count": 2,
   "metadata": {},
   "outputs": [
    {
     "data": {
      "text/plain": [
       "3"
      ]
     },
     "execution_count": 2,
     "metadata": {},
     "output_type": "execute_result"
    }
   ],
   "source": [
    "sockMerchant(9, [10, 20, 20, 10, 10, 30, 50, 10, 20])"
   ]
  },
  {
   "cell_type": "markdown",
   "metadata": {},
   "source": [
    "### Bon Appetit"
   ]
  },
  {
   "cell_type": "code",
   "execution_count": null,
   "metadata": {},
   "outputs": [],
   "source": [
    "def bonAppetit(bill, k, b):\n",
    "    anna = (sum(bill)-bill[k])/2\n",
    "    if b>anna:\n",
    "        print(int(b-anna))\n",
    "    else:\n",
    "        print('Bon Appetit')"
   ]
  },
  {
   "cell_type": "markdown",
   "metadata": {},
   "source": [
    "### Day of the Programmer"
   ]
  },
  {
   "cell_type": "code",
   "execution_count": null,
   "metadata": {},
   "outputs": [],
   "source": [
    "def dayOfProgrammer(year):\n",
    "    if year==1918:\n",
    "        return '26.09.1918'\n",
    "    elif (year%4==0 and year%100!=0) or year%400==0 or (year<1918 and year%4==0):\n",
    "        return '12.09.'+str(year)\n",
    "    else:\n",
    "        return '13.09.'+str(year)"
   ]
  },
  {
   "cell_type": "markdown",
   "metadata": {},
   "source": [
    "### Migratory Birds"
   ]
  },
  {
   "cell_type": "markdown",
   "metadata": {},
   "source": [
    "First Attempt (5/6 Test Cases Passed) "
   ]
  },
  {
   "cell_type": "code",
   "execution_count": null,
   "metadata": {},
   "outputs": [],
   "source": [
    "def migratory_birds(arr):\n",
    "    count = {}\n",
    "    for bird in arr:\n",
    "        if bird in count.keys():\n",
    "            count[bird]+=1\n",
    "        else:\n",
    "            count[bird]=1\n",
    "    return max(count, key=lambda k: count[k])"
   ]
  },
  {
   "cell_type": "markdown",
   "metadata": {},
   "source": [
    "Second Attempt (6/6 Test Cases Passed)"
   ]
  },
  {
   "cell_type": "code",
   "execution_count": null,
   "metadata": {},
   "outputs": [],
   "source": [
    "def migratory_birds(arr):\n",
    "    counts = {}\n",
    "    birds = list(set(arr))\n",
    "    for bird in birds:\n",
    "        value = arr.count(bird)\n",
    "        counts[bird]=value\n",
    "    return max(counts, key=lambda k: counts[k])"
   ]
  }
 ],
 "metadata": {
  "kernelspec": {
   "display_name": "Python 3",
   "language": "python",
   "name": "python3"
  },
  "language_info": {
   "codemirror_mode": {
    "name": "ipython",
    "version": 3
   },
   "file_extension": ".py",
   "mimetype": "text/x-python",
   "name": "python",
   "nbconvert_exporter": "python",
   "pygments_lexer": "ipython3",
   "version": "3.7.3"
  }
 },
 "nbformat": 4,
 "nbformat_minor": 2
}
