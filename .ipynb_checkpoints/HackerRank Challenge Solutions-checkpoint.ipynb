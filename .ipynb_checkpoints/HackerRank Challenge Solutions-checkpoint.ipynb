{
 "cells": [
  {
   "cell_type": "markdown",
   "metadata": {},
   "source": [
    "# HackerRank Challenge Solutions"
   ]
  },
  {
   "cell_type": "markdown",
   "metadata": {},
   "source": [
    "### Climbing the Leaderboard"
   ]
  },
  {
   "cell_type": "markdown",
   "metadata": {},
   "source": [
    "Method"
   ]
  },
  {
   "cell_type": "code",
   "execution_count": null,
   "metadata": {},
   "outputs": [],
   "source": []
  },
  {
   "cell_type": "markdown",
   "metadata": {},
   "source": [
    "Test Code"
   ]
  },
  {
   "cell_type": "code",
   "execution_count": null,
   "metadata": {},
   "outputs": [],
   "source": []
  },
  {
   "cell_type": "markdown",
   "metadata": {},
   "source": [
    "### Picking Numbers"
   ]
  },
  {
   "cell_type": "markdown",
   "metadata": {},
   "source": [
    "Final Method"
   ]
  },
  {
   "cell_type": "code",
   "execution_count": 34,
   "metadata": {},
   "outputs": [],
   "source": [
    "def pickingNumbers(a):\n",
    "    lengths = []\n",
    "    sorteda = sorted(list(set(a)))\n",
    "    for index, value in enumerate(sorteda):\n",
    "        if value!=max(sorteda) and sorteda[index+1]==(value+1):\n",
    "            lengths.append(a.count(value)+a.count(value+1))\n",
    "        else:\n",
    "            lengths.append(a.count(value)+a.count(value-1))\n",
    "    return max(lengths)"
   ]
  },
  {
   "cell_type": "markdown",
   "metadata": {},
   "source": [
    "Test Code"
   ]
  },
  {
   "cell_type": "code",
   "execution_count": 35,
   "metadata": {},
   "outputs": [
    {
     "data": {
      "text/plain": [
       "3"
      ]
     },
     "execution_count": 35,
     "metadata": {},
     "output_type": "execute_result"
    }
   ],
   "source": [
    "pickingNumbers([4,6,5,3,3,1])"
   ]
  },
  {
   "cell_type": "markdown",
   "metadata": {},
   "source": [
    "Below solution terminated due to runtime complexity:"
   ]
  },
  {
   "cell_type": "code",
   "execution_count": 32,
   "metadata": {},
   "outputs": [],
   "source": [
    "from itertools import combinations\n",
    "def pickingNumbers(a):\n",
    "    lengths = []\n",
    "    for r in list(range(1,len(a),1)):\n",
    "        combs = combinations(a, r)\n",
    "        for comb in combs:\n",
    "            if len(list(set(comb)))==1:\n",
    "                lengths.append(1)\n",
    "            elif len(list(set(comb)))<=2 and (list(set(comb))[1]-list(set(comb))[0])<=1:\n",
    "                lengths.append(r)\n",
    "    return max(lengths)"
   ]
  },
  {
   "cell_type": "code",
   "execution_count": 33,
   "metadata": {
    "scrolled": true
   },
   "outputs": [
    {
     "data": {
      "text/plain": [
       "3"
      ]
     },
     "execution_count": 33,
     "metadata": {},
     "output_type": "execute_result"
    }
   ],
   "source": [
    "pickingNumbers([4,6,5,3,3,1])"
   ]
  },
  {
   "cell_type": "markdown",
   "metadata": {},
   "source": [
    "Reading through the discussion posts, I found this even simpler (!!!) solution:"
   ]
  },
  {
   "cell_type": "code",
   "execution_count": 38,
   "metadata": {},
   "outputs": [],
   "source": [
    "def pickingNumbers(a):\n",
    "    return max([a.count(i) + a.count(i+1) for i in set(a)])"
   ]
  },
  {
   "cell_type": "code",
   "execution_count": 39,
   "metadata": {},
   "outputs": [
    {
     "data": {
      "text/plain": [
       "3"
      ]
     },
     "execution_count": 39,
     "metadata": {},
     "output_type": "execute_result"
    }
   ],
   "source": [
    "pickingNumbers([4,6,5,3,3,1])"
   ]
  },
  {
   "cell_type": "markdown",
   "metadata": {},
   "source": [
    "### Forming Magic Squares"
   ]
  },
  {
   "cell_type": "markdown",
   "metadata": {},
   "source": [
    "Method"
   ]
  },
  {
   "cell_type": "code",
   "execution_count": 27,
   "metadata": {},
   "outputs": [],
   "source": [
    "def formingMagicSquare(s):\n",
    "    magic_squares = [\n",
    "            [[8, 1, 6], [3, 5, 7], [4, 9, 2]],\n",
    "            [[6, 1, 8], [7, 5, 3], [2, 9, 4]],\n",
    "            [[4, 9, 2], [3, 5, 7], [8, 1, 6]],\n",
    "            [[2, 9, 4], [7, 5, 3], [6, 1, 8]], \n",
    "            [[8, 3, 4], [1, 5, 9], [6, 7, 2]],\n",
    "            [[4, 3, 8], [9, 5, 1], [2, 7, 6]], \n",
    "            [[6, 7, 2], [1, 5, 9], [8, 3, 4]], \n",
    "            [[2, 7, 6], [9, 5, 1], [4, 3, 8]],\n",
    "            ]\n",
    "    costs={}\n",
    "    for k, magic_square in enumerate(magic_squares):\n",
    "        cost = 0\n",
    "        for i, value in enumerate(s):\n",
    "            for j, value in enumerate(value):\n",
    "                cost += abs(s[i][j]-magic_square[i][j])\n",
    "                costs[k]=cost\n",
    "    return min(costs.values())"
   ]
  },
  {
   "cell_type": "markdown",
   "metadata": {},
   "source": [
    "Test Code"
   ]
  },
  {
   "cell_type": "code",
   "execution_count": 29,
   "metadata": {},
   "outputs": [
    {
     "data": {
      "text/plain": [
       "4"
      ]
     },
     "execution_count": 29,
     "metadata": {},
     "output_type": "execute_result"
    }
   ],
   "source": [
    "formingMagicSquare([[4,8,2],[4,5,7],[6,1,6]])"
   ]
  },
  {
   "cell_type": "markdown",
   "metadata": {},
   "source": [
    "### Cat and Mouse"
   ]
  },
  {
   "cell_type": "markdown",
   "metadata": {},
   "source": [
    "Method"
   ]
  },
  {
   "cell_type": "code",
   "execution_count": 10,
   "metadata": {},
   "outputs": [],
   "source": [
    "def catAndMouse(x, y, z):\n",
    "    if abs(x-z)<abs(y-z):\n",
    "        return 'Cat A'\n",
    "    elif abs(y-z)<abs(x-z):\n",
    "        return 'Cat B'\n",
    "    else:\n",
    "        return 'Mouse C'"
   ]
  },
  {
   "cell_type": "markdown",
   "metadata": {},
   "source": [
    "Test Code"
   ]
  },
  {
   "cell_type": "code",
   "execution_count": 11,
   "metadata": {},
   "outputs": [
    {
     "data": {
      "text/plain": [
       "'Cat A'"
      ]
     },
     "execution_count": 11,
     "metadata": {},
     "output_type": "execute_result"
    }
   ],
   "source": [
    "catAndMouse(13,19,15)"
   ]
  },
  {
   "cell_type": "markdown",
   "metadata": {},
   "source": [
    "### Electronics Shop"
   ]
  },
  {
   "cell_type": "markdown",
   "metadata": {},
   "source": [
    "Method"
   ]
  },
  {
   "cell_type": "code",
   "execution_count": 8,
   "metadata": {},
   "outputs": [],
   "source": [
    "def getMoneySpent(keyboards, drives, b):\n",
    "    totals = []\n",
    "    budget = []\n",
    "    for k in keyboards:\n",
    "        for d in drives:\n",
    "            totals.append(k+d)\n",
    "    for total in totals:\n",
    "        if total<=b:\n",
    "            budget.append(total)\n",
    "    if len(budget)==0:\n",
    "        return -1\n",
    "    else:\n",
    "        return max(budget)"
   ]
  },
  {
   "cell_type": "markdown",
   "metadata": {},
   "source": [
    "Test Code"
   ]
  },
  {
   "cell_type": "code",
   "execution_count": 9,
   "metadata": {},
   "outputs": [
    {
     "data": {
      "text/plain": [
       "9"
      ]
     },
     "execution_count": 9,
     "metadata": {},
     "output_type": "execute_result"
    }
   ],
   "source": [
    "getMoneySpent([3,1],[5,2,8],10)"
   ]
  },
  {
   "cell_type": "markdown",
   "metadata": {},
   "source": [
    "### Counting Valleys"
   ]
  },
  {
   "cell_type": "markdown",
   "metadata": {},
   "source": [
    "Method"
   ]
  },
  {
   "cell_type": "code",
   "execution_count": 5,
   "metadata": {},
   "outputs": [],
   "source": [
    "def countingValleys(n, s):\n",
    "    position = 0\n",
    "    valleys = 0\n",
    "    for step in s:\n",
    "        if step=='U':\n",
    "            position+=1\n",
    "        if step=='D':\n",
    "            if position==0:\n",
    "                valleys+=1\n",
    "            position-=1\n",
    "    return valleys"
   ]
  },
  {
   "cell_type": "markdown",
   "metadata": {},
   "source": [
    "Test Code"
   ]
  },
  {
   "cell_type": "code",
   "execution_count": 7,
   "metadata": {},
   "outputs": [
    {
     "data": {
      "text/plain": [
       "2"
      ]
     },
     "execution_count": 7,
     "metadata": {},
     "output_type": "execute_result"
    }
   ],
   "source": [
    "countingValleys(12, ['D','D','U','U','D','D','U','D','U','U','U','D'])"
   ]
  },
  {
   "cell_type": "markdown",
   "metadata": {},
   "source": [
    "### Drawing Book"
   ]
  },
  {
   "cell_type": "markdown",
   "metadata": {},
   "source": [
    "Method"
   ]
  },
  {
   "cell_type": "code",
   "execution_count": 3,
   "metadata": {},
   "outputs": [],
   "source": [
    "def pageCount(n, p):\n",
    "    if p>(n/2):\n",
    "        if n%2==0:\n",
    "            return int((n-p+1)/2)\n",
    "        else:\n",
    "            return int((n-p)/2)\n",
    "    else:\n",
    "        return int(p/2) "
   ]
  },
  {
   "cell_type": "markdown",
   "metadata": {},
   "source": [
    "Test Code"
   ]
  },
  {
   "cell_type": "code",
   "execution_count": 4,
   "metadata": {},
   "outputs": [
    {
     "data": {
      "text/plain": [
       "184"
      ]
     },
     "execution_count": 4,
     "metadata": {},
     "output_type": "execute_result"
    }
   ],
   "source": [
    "pageCount(807, 368)"
   ]
  },
  {
   "cell_type": "markdown",
   "metadata": {},
   "source": [
    "### Sock Merchant"
   ]
  },
  {
   "cell_type": "markdown",
   "metadata": {},
   "source": [
    "Method"
   ]
  },
  {
   "cell_type": "code",
   "execution_count": 1,
   "metadata": {},
   "outputs": [],
   "source": [
    "def sockMerchant(n, ar):\n",
    "    counts = {}\n",
    "    socks = list(set(ar))\n",
    "    for sock in socks:\n",
    "        value = ar.count(sock)\n",
    "        counts[sock]=value\n",
    "    pairs = 0\n",
    "    for value in counts.values():\n",
    "        pairs += int(value/2)\n",
    "    return pairs"
   ]
  },
  {
   "cell_type": "markdown",
   "metadata": {},
   "source": [
    "Test Code"
   ]
  },
  {
   "cell_type": "code",
   "execution_count": 2,
   "metadata": {},
   "outputs": [
    {
     "data": {
      "text/plain": [
       "3"
      ]
     },
     "execution_count": 2,
     "metadata": {},
     "output_type": "execute_result"
    }
   ],
   "source": [
    "sockMerchant(9, [10, 20, 20, 10, 10, 30, 50, 10, 20])"
   ]
  },
  {
   "cell_type": "markdown",
   "metadata": {},
   "source": [
    "### Bon Appetit"
   ]
  },
  {
   "cell_type": "code",
   "execution_count": null,
   "metadata": {},
   "outputs": [],
   "source": [
    "def bonAppetit(bill, k, b):\n",
    "    anna = (sum(bill)-bill[k])/2\n",
    "    if b>anna:\n",
    "        print(int(b-anna))\n",
    "    else:\n",
    "        print('Bon Appetit')"
   ]
  },
  {
   "cell_type": "markdown",
   "metadata": {},
   "source": [
    "### Day of the Programmer"
   ]
  },
  {
   "cell_type": "code",
   "execution_count": null,
   "metadata": {},
   "outputs": [],
   "source": [
    "def dayOfProgrammer(year):\n",
    "    if year==1918:\n",
    "        return '26.09.1918'\n",
    "    elif (year%4==0 and year%100!=0) or year%400==0 or (year<1918 and year%4==0):\n",
    "        return '12.09.'+str(year)\n",
    "    else:\n",
    "        return '13.09.'+str(year)"
   ]
  },
  {
   "cell_type": "markdown",
   "metadata": {},
   "source": [
    "### Migratory Birds"
   ]
  },
  {
   "cell_type": "markdown",
   "metadata": {},
   "source": [
    "First Attempt (5/6 Test Cases Passed) "
   ]
  },
  {
   "cell_type": "code",
   "execution_count": null,
   "metadata": {},
   "outputs": [],
   "source": [
    "def migratory_birds(arr):\n",
    "    count = {}\n",
    "    for bird in arr:\n",
    "        if bird in count.keys():\n",
    "            count[bird]+=1\n",
    "        else:\n",
    "            count[bird]=1\n",
    "    return max(count, key=lambda k: count[k])"
   ]
  },
  {
   "cell_type": "markdown",
   "metadata": {},
   "source": [
    "Second Attempt (6/6 Test Cases Passed)"
   ]
  },
  {
   "cell_type": "code",
   "execution_count": null,
   "metadata": {},
   "outputs": [],
   "source": [
    "def migratory_birds(arr):\n",
    "    counts = {}\n",
    "    birds = list(set(arr))\n",
    "    for bird in birds:\n",
    "        value = arr.count(bird)\n",
    "        counts[bird]=value\n",
    "    return max(counts, key=lambda k: counts[k])"
   ]
  }
 ],
 "metadata": {
  "kernelspec": {
   "display_name": "Python 3",
   "language": "python",
   "name": "python3"
  },
  "language_info": {
   "codemirror_mode": {
    "name": "ipython",
    "version": 3
   },
   "file_extension": ".py",
   "mimetype": "text/x-python",
   "name": "python",
   "nbconvert_exporter": "python",
   "pygments_lexer": "ipython3",
   "version": "3.7.3"
  }
 },
 "nbformat": 4,
 "nbformat_minor": 2
}
